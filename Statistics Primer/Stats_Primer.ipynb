{
 "cells": [
  {
   "cell_type": "markdown",
   "metadata": {
    "_uuid": "989b76b2cb6cb90eef00ceb72b900b48b068d6d1"
   },
   "source": [
    "# Statistics Primer"
   ]
  },
  {
   "cell_type": "markdown",
   "metadata": {
    "_uuid": "5ed83f411c19a07c0c8a48b8d978828ea3589707"
   },
   "source": [
    "![](https://i.stack.imgur.com/c88K3.png)"
   ]
  },
  {
   "cell_type": "markdown",
   "metadata": {
    "_uuid": "7e44e6d3b18b6da66ae052463a2e8a1afc9bf008"
   },
   "source": [
    "## Table of contents"
   ]
  },
  {
   "cell_type": "markdown",
   "metadata": {
    "_uuid": "564fcdf42264765f9e9cb0021393ff225da36356"
   },
   "source": [
    "- [Preparation](#1)\n",
    "- [Discrete and Continuous Variables](#2)\n",
    "  - PMF (Probability Mass Function)\n",
    "  - PDF (Probability Density Function)\n",
    "  - CDF (Cumulative Distribution Function)\n",
    "- [Distributions](#3)\n",
    "  - Uniform Distribution\n",
    "  - Normal Distribution\n",
    "  - Binomial Distribution\n",
    "  - Poisson Distribution\n",
    "  - Log-normal Distribution\n",
    "- [Summary Statistics and Moments](#4)\n"
   ]
  },
  {
   "cell_type": "markdown",
   "metadata": {
    "_uuid": "282586fdc29e40b96c386c63a254232f9fffdffb"
   },
   "source": [
    "## Preparation <a id=\"1\"></a>"
   ]
  },
  {
   "cell_type": "code",
   "execution_count": null,
   "metadata": {
    "_kg_hide-input": true,
    "_kg_hide-output": true,
    "_uuid": "f45ba6a511f519d35d488b71d3d8ab3189c0b175"
   },
   "outputs": [],
   "source": [
    "# Dependencies\n",
    "\n",
    "# Standard Dependencies\n",
    "import os\n",
    "import numpy as np\n",
    "import pandas as pd\n",
    "from math import sqrt\n",
    "\n",
    "# Visualization\n",
    "from pylab import *\n",
    "import matplotlib.mlab as mlab\n",
    "import matplotlib.pyplot as plt\n",
    "import seaborn as sns\n",
    "\n",
    "# Statistics\n",
    "from statistics import median\n",
    "from scipy import signal\n",
    "from scipy.misc import factorial\n",
    "import scipy.stats as stats\n",
    "from scipy.stats import sem, binom, lognorm, poisson, bernoulli, spearmanr\n",
    "from scipy.fftpack import fft, fftshift\n",
    "\n",
    "# Scikit-learn for Machine Learning models\n",
    "from sklearn.linear_model import LogisticRegression\n",
    "from sklearn.model_selection import train_test_split\n",
    "\n",
    "# Read in csv of Toy Dataset\n",
    "# We will use this dataset throughout the tutorial\n",
    "df = pd.read_csv('toy_dataset.csv')"
   ]
  },
  {
   "cell_type": "markdown",
   "metadata": {
    "_uuid": "13eff7a79e90263f0f7760f8448a633d07b1253f"
   },
   "source": [
    "## Discrete and Continuous Variables <a id=\"2\"></a>"
   ]
  },
  {
   "cell_type": "markdown",
   "metadata": {
    "_uuid": "48cd9a66e56c4614b368f6daa775f2def096081a"
   },
   "source": [
    "A discrete variable is a variable that can only take on a certain number of values. If you can count a set of items, then it’s a discrete variable. An example of a discrete variable is the outcome of a dice. It can only have 1 of 6 different possible outcomes and is therefore discrete.\n",
    "\n",
    "A continuous variable can take on an infinite number of values. An example of a continuous variable is length. Length can be measured to an arbitrary degree and is there continuous.\n",
    "\n",
    "In statistics we represent a distribution of discrete variables with PMF's (Probability Mass Functions) and CDF's (Cumulative Distribution Functions). We represent distributions of continuous variables with PDF's (Probability Density Functions) and CDF's. \n",
    "\n",
    "The PMF defines the probability of all possible values x of the random variable. A PDF is the same but for continuous values.\n",
    "The CDF represents the probability that the random variable X will have an outcome less or equal to the value x. The name CDF is used for both discrete and continuous distributions.\n",
    "\n",
    "The functions that describe PMF's, PDF's and CDF's can be quite daunting at first, but their visual counterparts look quite intuitive."
   ]
  },
  {
   "cell_type": "markdown",
   "metadata": {
    "_uuid": "2624a2129e53c2395974c97fad41014c2badaf72"
   },
   "source": [
    "### PMF (Probability Mass Function)"
   ]
  },
  {
   "cell_type": "markdown",
   "metadata": {
    "_uuid": "b8f282bd4f0c2f3f309eb918f931c0a6a1e0fa47"
   },
   "source": [
    "Here we visualize a PMF of a binomial distribution. You can see that the possible values are all integers. For example, no values are between 50 and 51. \n",
    "\n",
    "The PMF of a binomial distribution in function form:\n",
    "\n",
    "![](http://reliabilityace.com/formulas/binomial-pmf.png)\n",
    "\n",
    "See the \"[Distributions](#3)\" section for more information on binomial distributions."
   ]
  },
  {
   "cell_type": "code",
   "execution_count": null,
   "metadata": {
    "_kg_hide-input": true,
    "_uuid": "db0e9869de1bd1698d82aef683f1e728332cca42"
   },
   "outputs": [],
   "source": [
    "# PMF Visualization\n",
    "n = 100\n",
    "p = 0.5\n",
    "\n",
    "fig, ax = plt.subplots(1, 1, figsize=(17,5))\n",
    "x = np.arange(binom.ppf(0.01, n, p), binom.ppf(0.99, n, p))\n",
    "ax.plot(x, binom.pmf(x, n, p), 'bo', ms=8, label='Binomial PMF')\n",
    "ax.vlines(x, 0, binom.pmf(x, n, p), colors='b', lw=5, alpha=0.5)\n",
    "rv = binom(n, p)\n",
    "#ax.vlines(x, 0, rv.pmf(x), colors='k', linestyles='-', lw=1, label='frozen PMF')\n",
    "ax.legend(loc='best', frameon=False, fontsize='xx-large')\n",
    "plt.title('PMF of a binomial distribution (n=100, p=0.5)', fontsize='xx-large')\n",
    "plt.show()"
   ]
  },
  {
   "cell_type": "markdown",
   "metadata": {
    "_uuid": "296d295ab15c5ee1459ded68e057cfd5643e38b1"
   },
   "source": [
    "### PDF (Probability Density Functions)"
   ]
  },
  {
   "cell_type": "markdown",
   "metadata": {
    "_uuid": "fad05c69f87d0e8d15ce668c3afaf59544043b9d"
   },
   "source": [
    "The PDF is the same as a PMF, but continuous. It can be said that the distribution has an infinite number of possible values. Here we visualize a standard normal distribution with a mean of 0 and standard deviation of 1.\n",
    "\n",
    "PDF of a normal distribution in formula form:\n",
    "\n",
    "![](https://www.mhnederlof.nl/images/normalpdf.jpg)"
   ]
  },
  {
   "cell_type": "code",
   "execution_count": null,
   "metadata": {
    "_kg_hide-input": true,
    "_uuid": "d1269471579a6259bd4e30420f3930589000108f"
   },
   "outputs": [],
   "source": [
    "# Plot normal distribution\n",
    "mu = 0\n",
    "variance = 1\n",
    "sigma = sqrt(variance)\n",
    "x = np.linspace(mu - 3*sigma, mu + 3*sigma, 100)\n",
    "plt.figure(figsize=(16,5))\n",
    "plt.plot(x, stats.norm.pdf(x, mu, sigma), label='Normal Distribution')\n",
    "plt.title('Normal Distribution with mean = 0 and std = 1')\n",
    "plt.legend(fontsize='xx-large')\n",
    "plt.show()"
   ]
  },
  {
   "cell_type": "markdown",
   "metadata": {
    "_uuid": "fdc08067fcf98556c39d06352faec7fa18653c08"
   },
   "source": [
    "### CDF (Cumulative Distribution Function)"
   ]
  },
  {
   "cell_type": "markdown",
   "metadata": {
    "_uuid": "fe673d32cc307926fd6612c469a14092555534ce"
   },
   "source": [
    "The CDF maps the probability that a random variable X will take a value of less than or equal to a value x (P(X ≤  x)). CDF's can be discrete or continuous. In this section we visualize the continuous case. You can see in the plot that the CDF accumulates all probabilities and is therefore bounded between 0 ≤ x ≤ 1.\n",
    "\n",
    "The CDF of a normal distribution as a formula:\n",
    "\n",
    "![](https://wikimedia.org/api/rest_v1/media/math/render/svg/187f33664b79492eedf4406c66d67f9fe5f524ea)\n",
    "\n",
    "*Note: erf means \"[error function](https://en.wikipedia.org/wiki/Error_function)\".*"
   ]
  },
  {
   "cell_type": "code",
   "execution_count": null,
   "metadata": {
    "_kg_hide-input": true,
    "_uuid": "50ac54008528325e5d5a84a010edc1b87cb3b204"
   },
   "outputs": [],
   "source": [
    "# Define X and Y\n",
    "X  = np.arange(-2, 2, 0.01)\n",
    "Y  = exp(-X ** 2)\n",
    "\n",
    "# Normalize Y\n",
    "\n",
    "\n",
    "# Plot the PDF and CDF\n"
   ]
  },
  {
   "cell_type": "markdown",
   "metadata": {
    "_uuid": "2e620ad8bcf498e33bedcaba57975a93a9891e29"
   },
   "source": [
    "## Distributions <a id=\"3\"></a>"
   ]
  },
  {
   "cell_type": "markdown",
   "metadata": {
    "_uuid": "0d35d79ca82a18094a76df6bacf43ade19e1c983"
   },
   "source": [
    "A Probability distribution tells us something about the likelihood of each value of the random variable.\n",
    "\n",
    "A random variable X is a function that maps events to real numbers.\n",
    "\n",
    "The visualizations in this section are of discrete distributions. Many of these distributions can however also be continuous."
   ]
  },
  {
   "cell_type": "markdown",
   "metadata": {
    "_uuid": "93ab51edf08b7e337396b0d73d8dc2c138a85362"
   },
   "source": [
    "### Uniform Distribution"
   ]
  },
  {
   "cell_type": "markdown",
   "metadata": {
    "_uuid": "2ba34f6480af6f231252954e1e7fe5180ba52550"
   },
   "source": [
    "A Uniform distribution is pretty straightforward. Every value has an equal change of occuring. Therefore, the distribution consists of random values with no patterns in them. In this example we generate random floating numbers between 0 and 1.\n",
    "\n",
    "The PDF of a Uniform Distribution:\n",
    "\n",
    "![](https://wikimedia.org/api/rest_v1/media/math/render/svg/648692e002b720347c6c981aeec2a8cca7f4182f)\n",
    "\n",
    "CDF:\n",
    "\n",
    "![](https://wikimedia.org/api/rest_v1/media/math/render/svg/eeeeb233753cfe775b24e3fec2f371ee8cdc63a6)"
   ]
  },
  {
   "cell_type": "code",
   "execution_count": null,
   "metadata": {
    "_kg_hide-input": true,
    "_uuid": "a19749b9b84493a9840e3bc4fe66336a4910f53c"
   },
   "outputs": [],
   "source": [
    "# Define a variable uniform_dist \n",
    "# Set uniform_dist to 1000 random values set between 0 and 1\n"
   ]
  },
  {
   "cell_type": "code",
   "execution_count": null,
   "metadata": {
    "_kg_hide-input": true,
    "_uuid": "d681fa3cc5c5458542b005b58e9b219bf2628882"
   },
   "outputs": [],
   "source": [
    "#Plot uniform_dist as a scatter plot\n"
   ]
  },
  {
   "cell_type": "code",
   "execution_count": null,
   "metadata": {
    "_kg_hide-input": true,
    "_uuid": "a4c9ac5d4332f800a15c9fed1de603c3b64a5162"
   },
   "outputs": [],
   "source": [
    "plt.figure(figsize=(18,5))\n",
    "sns.distplot(uniform_df)\n",
    "plt.title('Random/Uniform distribution', fontsize='xx-large')"
   ]
  },
  {
   "cell_type": "markdown",
   "metadata": {
    "_uuid": "d80f0ce34730da4b8bc6fec9747a82e6d7273a83"
   },
   "source": [
    "### Normal Distribution"
   ]
  },
  {
   "cell_type": "markdown",
   "metadata": {
    "_uuid": "d64629b0d2c90c90ebe16841a04fccf6a4a4387a"
   },
   "source": [
    "A normal distribution (also called Gaussian or Bell Curve) is very common and convenient. This is mainly because of the [Central Limit Theorem (CLT)](https://en.wikipedia.org/wiki/Central_limit_theorem), which states that with a large amount of independent random variables (like coin flips) the distribution tends towards a normal distribution.\n",
    "\n",
    "PDF of a normal distribution:\n",
    "\n",
    "![](https://wikimedia.org/api/rest_v1/media/math/render/svg/2ce7e315b02666699e0cd8ea5fb1a3e0c287cd9d)\n",
    "\n",
    "CDF:\n",
    "\n",
    "![](https://wikimedia.org/api/rest_v1/media/math/render/svg/187f33664b79492eedf4406c66d67f9fe5f524ea)\n"
   ]
  },
  {
   "cell_type": "code",
   "execution_count": null,
   "metadata": {
    "_kg_hide-input": true,
    "_uuid": "f7b7e4657705105148671b00662874b7eb2c98ef"
   },
   "outputs": [],
   "source": [
    "# Generate Normal Distribution\n",
    "\n",
    "\n",
    "# Create a Pandas Series for easy sample function\n",
    "\n",
    "\n",
    "\n",
    "# Create a Pandas Series for easy sample function\n",
    "\n",
    "\n"
   ]
  },
  {
   "cell_type": "code",
   "execution_count": null,
   "metadata": {
    "_kg_hide-input": true,
    "_uuid": "bf454e36159ab26c2cb7229cd8de96b3c4999dc7"
   },
   "outputs": [],
   "source": [
    "# Scatterplot\n"
   ]
  },
  {
   "cell_type": "code",
   "execution_count": null,
   "metadata": {
    "_kg_hide-input": true,
    "_uuid": "e5bdaa0de445feef0f71a36b147bf1b676852c7e"
   },
   "outputs": [],
   "source": [
    "# Normal Distribution as a Bell Curve\n"
   ]
  },
  {
   "cell_type": "markdown",
   "metadata": {
    "_uuid": "216d5331a327f81ef7d340bd6380d5ce681cf430"
   },
   "source": [
    "### Binomial Distribution"
   ]
  },
  {
   "cell_type": "markdown",
   "metadata": {
    "_uuid": "92cbeff5b8b7cd396f6c941e603a3ec525f0cc0f"
   },
   "source": [
    "A Binomial Distribution has a countable number of outcomes and is therefore discrete.\n",
    "\n",
    "Binomial distributions must meet the following three criteria:\n",
    "\n",
    "1. The number of observations or trials is fixed. In other words, you can only figure out the probability of something happening if you do it a certain number of times.\n",
    "2. Each observation or trial is independent. In other words, none of your trials have an effect on the probability of the next trial.\n",
    "3. The probability of success is exactly the same from one trial to another.\n",
    "\n",
    "An intuitive explanation of a binomial distribution is flipping a coin 10 times. If we have a fair coin our chance of getting heads (p) is 0.50. Now we throw the coin 10 times and count how many times it comes up heads. In most situations we will get heads 5 times, but there is also a change that we get heads 9 times. The PMF of a binomial distribution will give these probabilities if we say N = 10 and p = 0.5. We say that the x for heads is 1 and 0 for tails.\n",
    "\n",
    "PMF:\n",
    "\n",
    "![](http://reliabilityace.com/formulas/binomial-pmf.png)\n",
    "\n",
    "CDF:\n",
    "\n",
    "![](http://reliabilityace.com/formulas/binomial-cpf.png)\n",
    "\n",
    "\n",
    "A **Bernoulli Distribution** is a special case of a Binomial Distribution.\n",
    "\n",
    "All values in a Bernoulli Distribution are either 0 or 1. \n",
    "\n",
    "For example, if we take an unfair coin which falls on heads 60 % of the time, we can describe the Bernoulli distribution as follows:\n",
    "\n",
    "p (change of heads) = 0.6\n",
    "\n",
    "1 - p (change of tails) = 0.4\n",
    "\n",
    "heads = 1\n",
    "\n",
    "tails = 0\n",
    "\n",
    "Formally, we can describe a Bernoulli distribution with the following PMF (Probability Mass Function):\n",
    "\n",
    "![](https://wikimedia.org/api/rest_v1/media/math/render/svg/a9207475ab305d280d2958f5c259f996415548e9)\n"
   ]
  },
  {
   "cell_type": "code",
   "execution_count": null,
   "metadata": {
    "_uuid": "d50cc50740b32b4aee6e72ba7e6de849bd6f0e89"
   },
   "outputs": [],
   "source": [
    "# Change of heads (outcome 1)\n",
    "p = 0.6\n",
    "\n",
    "# Create Bernoulli samples\n",
    "\n",
    "\n",
    "# Plot Distribution\n"
   ]
  },
  {
   "cell_type": "code",
   "execution_count": null,
   "metadata": {},
   "outputs": [],
   "source": [
    "#Set the bernoulli distribution to bernoulli samples of size 1000 and propability 0 using rvs\n",
    "bern_dist = bernoulli.rvs(p, size=1000)"
   ]
  },
  {
   "cell_type": "markdown",
   "metadata": {
    "_uuid": "0b6a5cb2a8e2963924420549806a57a53921b5c0"
   },
   "source": [
    "### Poisson Distribution"
   ]
  },
  {
   "cell_type": "markdown",
   "metadata": {
    "_uuid": "3b15493ae16821b00e67d687b91a6fd422ff50d5"
   },
   "source": [
    "The Poisson distribution is a discrete distribution and is popular for modelling the number of times an event occurs in an interval of time or space. \n",
    "\n",
    "It takes a value lambda, which is equal to the mean of the distribution.\n",
    "\n",
    "PMF: \n",
    "\n",
    "![](https://study.com/cimages/multimages/16/poisson1a.jpg)\n",
    "\n",
    "CDF: \n",
    "![](http://www.jennessent.com/images/cdf_poisson.gif)"
   ]
  },
  {
   "cell_type": "code",
   "execution_count": null,
   "metadata": {
    "_uuid": "b271f5d14668ec9af1c978869a5ee4439c5526cf"
   },
   "outputs": [],
   "source": [
    "#define x and y\n",
    "\n",
    "#Plot the poisson distribution\n"
   ]
  },
  {
   "cell_type": "markdown",
   "metadata": {
    "_uuid": "19b51633191227da35347fd81dd1f23723e12fd3"
   },
   "source": [
    "### Log-Normal Distribution"
   ]
  },
  {
   "cell_type": "markdown",
   "metadata": {
    "_uuid": "c13f97c1551a715fc3cfa3a6d634ff8485280d41"
   },
   "source": [
    "A log-normal distribution is continuous. The main characteristic of a log-normal distribution is that it's logarithm is normally distributed. It is also referred to as Galton's distribution.\n",
    "\n",
    "PDF: \n",
    "\n",
    "![](https://www.mhnederlof.nl/images/lognormaldensity.jpg)\n",
    "\n",
    "CDF:\n",
    "\n",
    "![](https://wikimedia.org/api/rest_v1/media/math/render/svg/29095d9cbd6539833d549c59149b9fc5bd06339b)\n",
    "\n",
    "Where Phi is the CDF of the standard normal distribution."
   ]
  },
  {
   "cell_type": "code",
   "execution_count": null,
   "metadata": {
    "_kg_hide-input": true,
    "_uuid": "953c19e8e5ac877f598f48e363db57836d48432a"
   },
   "outputs": [],
   "source": [
    "# Specify standard deviation and mean\n",
    "\n",
    "# Create log-normal distribution\n",
    "\n",
    "# Visualize log-normal distribution\n"
   ]
  },
  {
   "cell_type": "markdown",
   "metadata": {
    "_uuid": "88a267e724f432804693641ec2c25528a2fd7b93"
   },
   "source": [
    "## Summary Statistics and Moments <a id=\"4\"></a>"
   ]
  },
  {
   "cell_type": "markdown",
   "metadata": {
    "_uuid": "a2801c16ab5ec6338cc5accedb40197af6c836e8"
   },
   "source": [
    "**Mean, Median and Mode** \n",
    "\n",
    "Note: The mean is also called the first moment.\n",
    "\n",
    "\n",
    "![](https://qph.fs.quoracdn.net/main-qimg-29a4925034e075f16e1c743a4b3dda8b)"
   ]
  },
  {
   "cell_type": "markdown",
   "metadata": {
    "_uuid": "8729c8e7dfc2a4fe899ffb6a86d73da7c6467cb5"
   },
   "source": [
    "### Moments\n",
    "\n",
    "A moment is a quantitative measure that says something about the shape of a distribution. There are central moments and non-central moments. This section is focused on the central moments.\n",
    "\n",
    "The 0th central moment is the total probability and is always equal to 1.\n",
    "\n",
    "The 1st moment is the mean (expected value).\n",
    "\n",
    "The 2nd central moment is the variance.\n",
    "\n",
    "**Variance** = The average of the squared distance of the mean. Variance is interesting in a mathematical sense, but the standard deviation is often a much better measure of how spread out the distribution is.\n",
    "\n",
    "![](http://www.visualmining.com/wp-content/uploads/2013/02/analytics_formula_variance.png)\n",
    "\n",
    "**Standard Deviation** = The square root of the variance\n",
    "\n",
    "![](http://www.visualmining.com/wp-content/uploads/2013/02/analytics_formula_std_dev.png)\n",
    "\n",
    "The 3rd central moment is the skewness.\n",
    "\n",
    "**Skewness** = A measure that describes the contrast of one tail versus the other tail. For example, if there are more high values in your distribution than low values then your distribution is 'skewed' towards the high values.\n",
    "\n",
    "![](http://www.visualmining.com/wp-content/uploads/2013/02/analytics_formula_skewness.png)\n",
    "\n",
    "The 4th central moment is the kurtosis.\n",
    "\n",
    "**Kurtosis** = A measure of how 'fat' the tails in the distribution are.\n",
    "\n",
    "![](http://www.visualmining.com/wp-content/uploads/2013/02/analytics_formula_kurtosis.png)\n",
    "\n",
    "The higher the moment, the harder it is to estimate with samples. Larger samples are required in order to obtain good estimates."
   ]
  },
  {
   "cell_type": "code",
   "execution_count": null,
   "metadata": {
    "_uuid": "a5bca8bcc3aa295113f838fa36298a07442dce08"
   },
   "outputs": [],
   "source": [
    "# Summary\n",
    "print('Summary Statistics for a normal distribution: ')\n",
    "# Median\n",
    "\n",
    "# Standard Deviation\n",
    "\n",
    "\n",
    "\n",
    "# Mean\n",
    "\n",
    "\n",
    "\n",
    "# Variance\n",
    "\n",
    "\n",
    "\n",
    "# Return unbiased skew normalized by N-1\n",
    "\n",
    "\n",
    "\n",
    "# Return unbiased kurtosis over requested axis using Fisher’s definition of kurtosis \n",
    "# (kurtosis of normal == 0.0) normalized by N-1\n",
    "\n",
    "\n"
   ]
  },
  {
   "cell_type": "code",
   "execution_count": null,
   "metadata": {},
   "outputs": [],
   "source": [
    "**The End**"
   ]
  }
 ],
 "metadata": {
  "kernelspec": {
   "display_name": "Python 3",
   "language": "python",
   "name": "python3"
  },
  "language_info": {
   "codemirror_mode": {
    "name": "ipython",
    "version": 3
   },
   "file_extension": ".py",
   "mimetype": "text/x-python",
   "name": "python",
   "nbconvert_exporter": "python",
   "pygments_lexer": "ipython3",
   "version": "3.7.6"
  }
 },
 "nbformat": 4,
 "nbformat_minor": 1
}
