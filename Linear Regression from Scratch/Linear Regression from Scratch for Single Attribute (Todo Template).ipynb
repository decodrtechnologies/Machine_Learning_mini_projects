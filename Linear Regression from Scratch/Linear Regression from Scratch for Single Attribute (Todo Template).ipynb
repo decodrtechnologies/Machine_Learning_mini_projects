{
 "cells": [
  {
   "cell_type": "markdown",
   "metadata": {
    "_uuid": "9fc285f747982f6af9a6c0c2172203eb0f3df803"
   },
   "source": [
    "# Linear Regression : \n",
    "\n",
    "Linear Regressoin is the most basic and popular algorithm of machine learning. It is supervised machine learning algorithm which is predicted output is real values/continuous. Or, Relationship between input/independent variables and single output/dependent variable. \n",
    "We will get linear regression image look like : -\n",
    "\n",
    "![image](https://upload.wikimedia.org/wikipedia/commons/thumb/3/3a/Linear_regression.svg/800px-Linear_regression.svg.png)\n",
    "\n",
    "> ## Objective : \n",
    "\n",
    "To make a simple linear regression model operating on one variable from scratch using statistical formulas\n",
    "\n",
    "### Simple Linear Regression\n",
    "A linear line relationship between one input/independent variable(X) and one output/dependent variable(y).\n",
    "\n",
    "     y = mX + b\n",
    "Where, y is dependent/target variable; X is input/independent variable; m is slop of regression line; b is y-intercept.\n",
    "\n",
    "> ## Approach : \n",
    "\n",
    "The model is built in the following steps \n",
    "\n",
    "- **Data Wrangling**\n",
    "- **Data Cleaning : Missing Values** \n",
    "- **Visualisation : UniVariate** \n",
    "    \n",
    "      - Histograms\n",
    "      - Scatter Plot \n",
    "      - Boxplot\n",
    "      \n",
    "- **Parameter Functions :**\n",
    "      \n",
    "      - Mean and Variance\n",
    "      - Co-Variance\n",
    "      - Coefficients\n",
    "      - Splitting Test Data\n",
    "      \n",
    "- **Model Building and Predictions**\n",
    "\n",
    "- **RMSE Function building and calculation**\n",
    "\n",
    "- **Conclusion**\n",
    "      - "
   ]
  },
  {
   "cell_type": "markdown",
   "metadata": {},
   "source": [
    "## `1.` Data Wrangling"
   ]
  },
  {
   "cell_type": "code",
   "execution_count": 1,
   "metadata": {
    "_cell_guid": "f9d988d7-333b-48eb-82da-a27fd34c711f",
    "_uuid": "78cf9b50f095deed049d07b0724fde39da4520d1"
   },
   "outputs": [],
   "source": [
    "#load all needed libraries\n",
    "import numpy as np\n",
    "import matplotlib.pyplot as plt\n",
    "import seaborn as sb\n",
    "import pandas as pd\n",
    "%matplotlib inline"
   ]
  },
  {
   "cell_type": "code",
   "execution_count": 2,
   "metadata": {
    "_cell_guid": "a9b44517-d670-4345-9e3b-8a2444ad166d",
    "_uuid": "0f16d4eae07eddbb35f24c9c9f441f3f5d0bef36"
   },
   "outputs": [],
   "source": [
    "#load data for train and test\n",
    "train = pd.read_csv(r'C:\\Users\\kusht\\Downloads\\train (2).csv')\n",
    "test = pd.read_csv(r'C:\\Users\\kusht\\Downloads\\test.csv')"
   ]
  },
  {
   "cell_type": "markdown",
   "metadata": {},
   "source": [
    "**TASK : Print the head of train and test data** "
   ]
  },
  {
   "cell_type": "code",
   "execution_count": 3,
   "metadata": {
    "_cell_guid": "de68822f-1cd5-4d28-ae0e-f59b74b1d1df",
    "_uuid": "9820c56a9114aefbfebd66dc08c7d615e33ca4a6"
   },
   "outputs": [],
   "source": [
    "### START CODE (~2 lines of code)\n",
    "\n",
    "### END CODE"
   ]
  },
  {
   "cell_type": "markdown",
   "metadata": {},
   "source": [
    "**TASK : Get the shapes of training and testing data**"
   ]
  },
  {
   "cell_type": "code",
   "execution_count": 4,
   "metadata": {
    "_cell_guid": "989e1ac8-9bbe-498f-9481-d5ceb45079ad",
    "_uuid": "35e43d54213f6558c1e1ffff3c3f8edc5376fb30"
   },
   "outputs": [],
   "source": [
    "### START CODE HERE (~ 2 Lines of code)\n",
    "\n",
    "### END CODE "
   ]
  },
  {
   "cell_type": "markdown",
   "metadata": {},
   "source": [
    "## `2.` Data Cleaning "
   ]
  },
  {
   "cell_type": "markdown",
   "metadata": {
    "_cell_guid": "8fc7bac6-8d72-433f-add6-4d4e650f80ef",
    "_uuid": "d5e09551764d963fe7d52c7dacc70e3b3488e05a"
   },
   "source": [
    "**TASK : Get info about dataset using `info()` method**"
   ]
  },
  {
   "cell_type": "code",
   "execution_count": 5,
   "metadata": {
    "_cell_guid": "926705b5-6d38-44a7-86cb-a9c09e8e70bd",
    "_uuid": "16d13d3c26828e7f742bd81712998c79beafb40a"
   },
   "outputs": [],
   "source": [
    "### START CODE HERE (~1 Line of code)\n",
    "\n",
    "### END CODE"
   ]
  },
  {
   "cell_type": "markdown",
   "metadata": {
    "_cell_guid": "f9fd386c-173f-4919-b83b-f7f35a401b35",
    "_uuid": "0adbaf136a6fc6664bcb2d2e0167929daf7b9561"
   },
   "source": [
    "- **Missing values**"
   ]
  },
  {
   "cell_type": "markdown",
   "metadata": {},
   "source": [
    "**TASK : Find the numbe of missing values**"
   ]
  },
  {
   "cell_type": "code",
   "execution_count": 6,
   "metadata": {
    "_cell_guid": "8e37aa43-f8a9-4fbc-87eb-87168543556e",
    "_uuid": "14c3734c2a4041014db9dece0e9f1fa243a27d24"
   },
   "outputs": [],
   "source": [
    "### START CODE HERE (~ 2 lines of code)\n",
    "\n",
    "### END CODE"
   ]
  },
  {
   "cell_type": "markdown",
   "metadata": {
    "_cell_guid": "adf0f51e-460a-4900-b959-ac0d4073a432",
    "_uuid": "a01e0f5c47c6d06f91ad9583b13b932d6ad11aa4"
   },
   "source": [
    "**TASK : Remove instances with missing values**"
   ]
  },
  {
   "cell_type": "code",
   "execution_count": 7,
   "metadata": {
    "_cell_guid": "adf0f51e-460a-4900-b959-ac0d4073a432",
    "_uuid": "a01e0f5c47c6d06f91ad9583b13b932d6ad11aa4"
   },
   "outputs": [],
   "source": [
    "### START CODE HERE (~2 Lines of code)\n",
    "\n",
    "### END CODE"
   ]
  },
  {
   "cell_type": "markdown",
   "metadata": {},
   "source": [
    "**TASK : Describe the dataset**"
   ]
  },
  {
   "cell_type": "code",
   "execution_count": 8,
   "metadata": {
    "_cell_guid": "9e4b2917-6964-4e5f-a01a-937f6228742c",
    "_uuid": "b23f8c8d9d02aa9eeb8c762141b05ba8fe6ec11b"
   },
   "outputs": [],
   "source": [
    "### START CODE HERE (~ 1 Line of code)\n",
    "\n",
    "### END CODE"
   ]
  },
  {
   "cell_type": "markdown",
   "metadata": {
    "_cell_guid": "83171a74-bd59-48f5-831b-dd9960c3132a",
    "_uuid": "05845b88e6878bb86518f5b3e10a956abb043f3c"
   },
   "source": [
    "## `3.` Visualization of train dataset"
   ]
  },
  {
   "cell_type": "markdown",
   "metadata": {},
   "source": [
    "### `3.1` Histograms"
   ]
  },
  {
   "cell_type": "markdown",
   "metadata": {},
   "source": [
    "**TASK : Plot a `histogram` of train dataset** "
   ]
  },
  {
   "cell_type": "code",
   "execution_count": 9,
   "metadata": {
    "_uuid": "efdafc54ff794a29d6b5a5fc6182abdb0310f8af"
   },
   "outputs": [],
   "source": [
    "### START CODE HERE (~2 Lines of code)\n",
    "\n",
    "### END CODE"
   ]
  },
  {
   "cell_type": "markdown",
   "metadata": {},
   "source": [
    "### `3.2` Scatter Plot"
   ]
  },
  {
   "cell_type": "markdown",
   "metadata": {},
   "source": [
    "**TASK : Plot a `scatter plot` between dependent and independent variable**"
   ]
  },
  {
   "cell_type": "code",
   "execution_count": 10,
   "metadata": {
    "_uuid": "12add1c12245a8888218152262dc4cd641b05aae"
   },
   "outputs": [],
   "source": [
    "### START CODE HERE (FULL CODE)\n",
    "## Show Xlabel , Ylabel and Title also\n",
    "\n",
    "### END CODE"
   ]
  },
  {
   "cell_type": "markdown",
   "metadata": {},
   "source": [
    "**Analyse if linear regression would be a good fit on this problem** "
   ]
  },
  {
   "cell_type": "markdown",
   "metadata": {},
   "source": [
    "### `3.3` Boxplots "
   ]
  },
  {
   "cell_type": "markdown",
   "metadata": {},
   "source": [
    "**TASK : Make a `boxplot` of training data**"
   ]
  },
  {
   "cell_type": "markdown",
   "metadata": {},
   "source": [
    "A better understanding of boxplot would be given by the below image"
   ]
  },
  {
   "cell_type": "markdown",
   "metadata": {},
   "source": [
    "<img src=\"https://i2.wp.com/flowingdata.com/wp-content/uploads/2008/02/box-plot-explained.gif?w=1090\">"
   ]
  },
  {
   "cell_type": "code",
   "execution_count": 11,
   "metadata": {
    "_cell_guid": "5f3fc82f-50e7-45ca-902c-bc19519d2267",
    "_uuid": "68fda61c91edf0c26f14b704de5a1c6951421116"
   },
   "outputs": [],
   "source": [
    "### START CODE HERE (~ 2 Lines of code)\n",
    "\n",
    "### END CODE"
   ]
  },
  {
   "cell_type": "markdown",
   "metadata": {},
   "source": [
    "**TASK : Split the `dependent` and `independent` variable and name them `y` and `X` respectively**"
   ]
  },
  {
   "cell_type": "code",
   "execution_count": 12,
   "metadata": {
    "_uuid": "18ba8803cdfd351e9add0744dd6028a757f4b856"
   },
   "outputs": [],
   "source": [
    "### START CODE HERE (~ 2 Lines of code)\n",
    "\n",
    "### END CODE"
   ]
  },
  {
   "cell_type": "markdown",
   "metadata": {},
   "source": [
    "## `4.` Parameter Functions"
   ]
  },
  {
   "cell_type": "markdown",
   "metadata": {
    "_uuid": "19d4299be86b93aa9a672e98a5e1b88057b338f2"
   },
   "source": [
    " Let's find the slop of regression line(m) and bais(y-intercept). you can find these using diffrente approaches. Like:- Ordinary Least Square approach and Gradient Descent approach.\n",
    " \n",
    "- **Ordinary Least Square**\n",
    " As you know that the relationship between independent(X) variable and dependent(y) variable is know as linear regression.\n",
    " \n",
    " **Orinary Least Sqaure** - the sum of the squares of the differences between an observation’s actual and estimated values.\n",
    "![Regression image](https://d1jnx9ba8s6j9r.cloudfront.net/blog/wp-content/uploads/2018/06/Least-Square-Method-2-399x300.png) \n",
    "Total error of this model is the sum of all errors of each point. ie.\n",
    "\n",
    "$$SE=\\sum_{i=1}^nDi^2$$\n",
    "\n",
    "    Di = Distance between line and ith point.\n",
    "    n = Total number of points\n",
    "### Let's start Implementation\n",
    "    1. Calculate Mean and Variance\n",
    "    2. Calculate Covariance.\n",
    "    3. Estimate Coefficients.\n",
    "    4. Make prediction\n",
    "    5. Evaluating Model with RMSE\n",
    "\n",
    "### `4.1`   Mean and Variance \n",
    "Mean of numbers can be calculated as: -\n",
    "\n",
    "    mean(x) = sum(x) / count(x)"
   ]
  },
  {
   "cell_type": "markdown",
   "metadata": {},
   "source": [
    "**TASK : Make `functions` for mean and variance**"
   ]
  },
  {
   "cell_type": "code",
   "execution_count": null,
   "metadata": {
    "_uuid": "20bdcbb6141f2db4bce367e6a47197f440adba8f"
   },
   "outputs": [],
   "source": [
    "### START CODE HERE (Write the code where '#' is given) \n",
    "\n",
    "#Calculate mean of list numbers with mean function\n",
    "def mean(numbers):\n",
    "    return sum('#') / float(len('#'))\n",
    "\n",
    "#Calculate varience of list numbers with variance function\n",
    "def variance(numbers, mean):\n",
    "    return sum([abs(x-mean)**2 for x in '#'])\n",
    "\n",
    "### END CODE"
   ]
  },
  {
   "cell_type": "markdown",
   "metadata": {},
   "source": [
    "**TASK : Find the mean and variance of X and y and store it in `X_mean` , `y_mean` , `X_variance` , `y_variance`**"
   ]
  },
  {
   "cell_type": "code",
   "execution_count": 13,
   "metadata": {
    "_uuid": "96b425da4879ba8df1623ffa0ff46a250569fce3"
   },
   "outputs": [],
   "source": [
    "### START CODE HERE \n",
    "\n",
    "### END CODE"
   ]
  },
  {
   "cell_type": "markdown",
   "metadata": {
    "_uuid": "0145e2fd96458418de966891e3a0d10f816a3eeb"
   },
   "source": [
    "### `4.2` Calculate Covariance\n",
    "covariance can describe the relationship between two or more groups of numbers. It is a generalization of correlation. Correlation describes the relationship between two groups of numbers.\n",
    " \n",
    "you can calculate the covariance between two variables as follows: \n",
    "       \n",
    "       covariance = sum((x(i) - mean(x)) * (y(i) - mean(y)))\n"
   ]
  },
  {
   "cell_type": "markdown",
   "metadata": {},
   "source": [
    "**TASK : Create function to implement `co-variance`**"
   ]
  },
  {
   "cell_type": "code",
   "execution_count": null,
   "metadata": {
    "_uuid": "911dc9ac3ce9dcaa46f3bdf27462364fa85afd3a"
   },
   "outputs": [],
   "source": [
    "### START CODE HERE (Write code where '#' is given)\n",
    "\n",
    "#Calculate the covariance of these groups\n",
    "def covariance(X, X_mean, y, y_mean):\n",
    "    ln = len(X)\n",
    "    cov = 0.0\n",
    "    for i in range(ln):\n",
    "        cov += (('#') * ('#'))\n",
    "    return cov\n",
    "### END CODE"
   ]
  },
  {
   "cell_type": "markdown",
   "metadata": {
    "_uuid": "7a068d7e2f19d9a5cc0a3205a4fe1fd0ef1ec7a1"
   },
   "source": [
    "### `4.3` Coefficients\n",
    "Estimate two coefficients in simple linear regression. which is m and b.\n",
    "\n",
    "    m = covariance() / variance()\n",
    "    b = mean(y) - (m*mean(X))"
   ]
  },
  {
   "cell_type": "markdown",
   "metadata": {},
   "source": [
    "**TASK : Make a function `coefficients()` which returns m,b**"
   ]
  },
  {
   "cell_type": "code",
   "execution_count": null,
   "metadata": {
    "_uuid": "39e940273f0b47de2835aa82c1cdfc610f383258"
   },
   "outputs": [],
   "source": [
    "### START CODE HERE (Write code where '#' is given) \n",
    "\n",
    "#Lets estimate with coefficient\n",
    "def coefficients():\n",
    "    m = covariance('#') / variance('#')\n",
    "    b = '#'\n",
    "    return [m,b]\n",
    "### END CODE"
   ]
  },
  {
   "cell_type": "markdown",
   "metadata": {
    "_uuid": "3793249692f5fae38adfbed8d3ed316c286bb4f6"
   },
   "source": [
    "you have estimated the coefficients. Now, you can use them to make predictions follows by this eqation: -\n",
    "\n",
    "       y = mX + b\n",
    " "
   ]
  },
  {
   "cell_type": "markdown",
   "metadata": {},
   "source": [
    "### `4.4` Splitting Test Data "
   ]
  },
  {
   "cell_type": "markdown",
   "metadata": {},
   "source": [
    "**TASK : Separate the `Test` dataset into X_test and y_test while reshaping it to (-1,1)**"
   ]
  },
  {
   "cell_type": "code",
   "execution_count": null,
   "metadata": {
    "_uuid": "efef2dc5c012a07b9800a518fe726c6fe2bfa684"
   },
   "outputs": [],
   "source": [
    "### START CODE HERE (Write code where '#' is given)\n",
    "\n",
    "X_test = test['#'].values.reshape(-1, 1)\n",
    "# similarly write code for y_test\n",
    "y_test = test['#'].values.reshape('#', '#')\n",
    "\n",
    "### END CODE"
   ]
  },
  {
   "cell_type": "markdown",
   "metadata": {},
   "source": [
    "## `5.` Linear Regression Model and Predictions"
   ]
  },
  {
   "cell_type": "markdown",
   "metadata": {},
   "source": [
    "**TASK : Make a function to evaluate `linear_regression` with above calculated parameters**"
   ]
  },
  {
   "cell_type": "markdown",
   "metadata": {},
   "source": [
    "Use the formula Y= mX + c"
   ]
  },
  {
   "cell_type": "code",
   "execution_count": null,
   "metadata": {
    "_uuid": "0fb604f853aaf6c316a8ae5855bed927870bda34"
   },
   "outputs": [],
   "source": [
    "### START CODE HERE (Write code where '#' is given)\n",
    "\n",
    "#simple_linear_regression() function making here to prediction\n",
    "\n",
    "def simple_linear_regression():\n",
    "    prediction = list()\n",
    "    m, c = coefficients()\n",
    "    for test in X_test:\n",
    "        y_pred = ('#')*test[0] + ('#')\n",
    "        prediction.append(y_pred)\n",
    "    return prediction\n",
    "\n",
    "### END CODE"
   ]
  },
  {
   "cell_type": "markdown",
   "metadata": {},
   "source": [
    "**TASK : Make a line plot of the predictions and a scatter plot of the dataset**"
   ]
  },
  {
   "cell_type": "code",
   "execution_count": null,
   "metadata": {
    "_uuid": "0aec4e8d24683f9684ede4efefa2ef1cb2bec32d"
   },
   "outputs": [],
   "source": [
    "predict = simple_linear_regression()"
   ]
  },
  {
   "cell_type": "code",
   "execution_count": 15,
   "metadata": {
    "_uuid": "144eff0de9c4e04d89663439309b4450e9addf1d"
   },
   "outputs": [],
   "source": [
    "### START CODE HERE (FULL CODE)\n",
    "\n",
    "# Ploting Line\n",
    "\n",
    "# Ploting Scatter Points\n",
    "\n",
    "### END CODE"
   ]
  },
  {
   "cell_type": "markdown",
   "metadata": {
    "_cell_guid": "13222632-be5a-4810-b951-fae4cecc3008",
    "_uuid": "00b6d93cf84438168b51bbdcc7d0fc4a9920b58c"
   },
   "source": [
    "## `6.` RMSE Function Building and Calculation\n",
    "We need to find how good is our model. There are many methods to evaluate models. Here we will use **Root Mean Sqare Error** \n",
    "\n",
    "**Root Mean Sqare Error** is the square root of the sum of all errors divided by the number of values.\n",
    "![RMSE](https://cdn-images-1.medium.com/max/800/1*SGBsn7WytmYYbuTgDatIpw.gif)\n",
    "\n",
    "Here yhat is the ith predicted output values or simply yhat = mX + c\n"
   ]
  },
  {
   "cell_type": "markdown",
   "metadata": {
    "_uuid": "e7e485b57633af13fbe0efc60ae99abffaa1b336"
   },
   "source": [
    "**TASK : Make `Root_mean_square_error` function**"
   ]
  },
  {
   "cell_type": "code",
   "execution_count": 40,
   "metadata": {
    "_cell_guid": "dc268492-f926-45d4-8ca3-d42e53e8742c",
    "_uuid": "d7cb72413fb097802a5969e876ee6741c3705013",
    "scrolled": true
   },
   "outputs": [],
   "source": [
    "### START CODE HERE (Write code where '#' is given) \n",
    "def root_mean_sqaure_error():\n",
    "    rmse = 0.0\n",
    "    m, c = coefficients()\n",
    "    for i in range(len(X_test)):\n",
    "        yhat = ('#')*X_test[i] + '#'\n",
    "        rmse += (y_test[i] - '#')**2\n",
    "    rmse = np.sqrt(rmse/len(X_test))\n",
    "    rmse = rmse[0]\n",
    "    return rmse\n",
    "\n",
    "### END CODE "
   ]
  },
  {
   "cell_type": "markdown",
   "metadata": {},
   "source": [
    "**TASK : Calculate RMSE using made function**"
   ]
  },
  {
   "cell_type": "code",
   "execution_count": 16,
   "metadata": {
    "_cell_guid": "cecc94e0-a04e-4bee-9f48-73e88c1201b8",
    "_uuid": "addb202225c4ebd4e2fd35065e1481f5da116dca"
   },
   "outputs": [],
   "source": [
    "### START CODE HERE \n",
    "\n",
    "### END CODE "
   ]
  },
  {
   "cell_type": "markdown",
   "metadata": {
    "_uuid": "1bc945986fcac42c6b6cd3104f52a56a2f8e5e2d"
   },
   "source": [
    "## Conclusion"
   ]
  },
  {
   "cell_type": "code",
   "execution_count": null,
   "metadata": {},
   "outputs": [],
   "source": []
  }
 ],
 "metadata": {
  "kernelspec": {
   "display_name": "Python 3",
   "language": "python",
   "name": "python3"
  },
  "language_info": {
   "codemirror_mode": {
    "name": "ipython",
    "version": 3
   },
   "file_extension": ".py",
   "mimetype": "text/x-python",
   "name": "python",
   "nbconvert_exporter": "python",
   "pygments_lexer": "ipython3",
   "version": "3.7.4"
  }
 },
 "nbformat": 4,
 "nbformat_minor": 1
}
