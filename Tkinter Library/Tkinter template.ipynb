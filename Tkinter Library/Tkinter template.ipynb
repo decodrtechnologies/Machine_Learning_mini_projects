{
 "cells": [
  {
   "attachments": {},
   "cell_type": "markdown",
   "metadata": {},
   "source": [
    "# Event Driven programming using tkinter:\n",
    "\n",
    "### What is Event Driven Programming?\n",
    "\n",
    "Event-driven programming is a programming paradigm in which the flow of program execution is determined by events - for example a user action such as a mouse click, key press, or a message from the operating system or another program. \n",
    "\n",
    "- An event-driven application is designed to detect events as they occur, and then deal with them using an appropriate event-handling procedure. \n",
    "- In a typical modern event-driven program, there is no discernible flow of control. The main routine is an event-loop that waits for an event to occur, and then invokes the appropriate event-handling routine.\n",
    "- Event callback is a function that is invoked when something significant happens like when click event is performed by user or the result of database query is available.\n",
    "\n",
    "### Introduction to GUI:\n",
    "- A graphical user interface allows the user to interact with the operating system and other programs using graphical elements such as icons, buttons, and dialog boxes.\n",
    "- GUIs popularized the use of the mouse.\n",
    "- GUIs allow the user to point at graphical elements and click the mouse button to activate them.\n",
    "- GUI Programs Are Event-Driven\n",
    "- User determines the order in which things happen\n",
    "- GUI programs respond to the actions of the user, thus they are event driven.\n",
    "- The tkinter module is a wrapper around tk, which is a wrapper around tcl, which is what is used to create windows and graphical user interfaces.\n",
    "\n"
   ]
  },
  {
   "attachments": {},
   "cell_type": "markdown",
   "metadata": {},
   "source": [
    "## Tkinter Widgets:\n",
    "\n",
    "- Tkinter is the standard GUI library for Python.\n",
    "- Tkinter provides various controls, such as buttons, labels and text boxes used in a GUI application. These controls are commonly called widgets.\n",
    "\n",
    "The following widgets will be dicussed below one by one:-\n",
    "1. Label Widget\n",
    "2. Button Widget\n",
    "3. Entry Widget\n",
    "4. Canvas\n",
    "5. Check Button\n",
    "6. Radio Button\n",
    "7. Scale\n",
    "8. Spinbox\n",
    "9. Menu Button\n"
   ]
  },
  {
   "attachments": {},
   "cell_type": "markdown",
   "metadata": {},
   "source": [
    "## 1. Label Widget:-\n",
    "\n",
    "A label is a widget that displays text or images, typically that the user will just view but not otherwise interact with. Labels are used for such things as identifying controls or other parts of the user interface, providing textual feedback or results, etc.\n",
    "\n",
    "Syntax:- tk.Label(parent,text=“message”)"
   ]
  },
  {
   "cell_type": "code",
   "execution_count": 24,
   "metadata": {},
   "outputs": [],
   "source": [
    "# import the tkinter library\n",
    "\n",
    "# initialise an object\n",
    "\n",
    "# create a label\n",
    "\n"
   ]
  },
  {
   "attachments": {},
   "cell_type": "markdown",
   "metadata": {},
   "source": [
    "## 2. Button Widget:- \n",
    "\n",
    "A button, unlike a frame or label, is very much designed for the user to interact with, and in particular, press to perform some action. Like labels, they can display text or images, but also have a whole range of new options used to control their behavior.\n",
    "\n",
    "Syntax:- button = tk.Button(parent, text=‘ClickMe', command=submitForm)"
   ]
  },
  {
   "cell_type": "code",
   "execution_count": 25,
   "metadata": {},
   "outputs": [],
   "source": [
    "# import tkinter library\n",
    "\n",
    "\n",
    "# import the message box\n",
    "\n",
    "\n",
    "# define a function which will be executed on a click\n",
    "\n",
    "\n",
    "# initialise an object \n",
    "\n",
    "\n",
    "# create a button\n"
   ]
  },
  {
   "attachments": {},
   "cell_type": "markdown",
   "metadata": {},
   "source": [
    "## 3. Entry Widgets:-\n",
    "\n",
    "An entry presents the user with a single line text field that they can use to type in a string value. These can be just about anything: their name, a city, a password, social security number, and so on.\n",
    "\n",
    "Syntax:- name = tk.Entry(parent, textvariable=username)\n"
   ]
  },
  {
   "cell_type": "code",
   "execution_count": 26,
   "metadata": {},
   "outputs": [],
   "source": [
    "# define a function that will be executed on clicking the button\n",
    "\n",
    "# initialize the object\n",
    "\n",
    "# create a label\n",
    "\n",
    "# create an entry widget\n",
    "\n",
    "# create a button\n",
    "\n"
   ]
  },
  {
   "cell_type": "markdown",
   "metadata": {},
   "source": [
    "## 4. Canvas:-\n",
    "\n",
    "The Canvas is a rectangular area intended for drawing pictures or other complex layouts. You can place graphics, text, widgets or frames on a Canvas.\n",
    "\n",
    "It is used to draw pictures and other complex layout like graphics, text and widgets.\n",
    "\n",
    "Syntax:- w = Canvas(master, option=value) \n"
   ]
  },
  {
   "cell_type": "code",
   "execution_count": 27,
   "metadata": {},
   "outputs": [],
   "source": [
    "# import tkinter library\n",
    "\n",
    "# import a message box\n",
    "\n",
    "# initialize an object\n",
    "\n",
    "# create a canvas \n"
   ]
  },
  {
   "attachments": {},
   "cell_type": "markdown",
   "metadata": {},
   "source": [
    "## 5. Checkbutton:-\n",
    "\n",
    "A checkbutton is like a regular button, except that not only can the user press it, which will invoke a command callback, but it also holds a binary value of some kind (i.e. a toggle). Checkbuttons are used all the time when a user is asked to choose between, e.g. two different values for an option.\n",
    "\n",
    "Syntax:- w = CheckButton(master, option=value)\n"
   ]
  },
  {
   "cell_type": "code",
   "execution_count": 29,
   "metadata": {},
   "outputs": [],
   "source": [
    "# import the tkinter library\n",
    "\n",
    "# initialize the object \n",
    "\n",
    "# initialize two integer variables\n",
    "\n",
    "# define a test function where we will check which checkbutton has been pressed \n",
    "\n",
    "# create checkbuttons\n"
   ]
  },
  {
   "attachments": {},
   "cell_type": "markdown",
   "metadata": {},
   "source": [
    "## 6. Radio Button:-\n",
    "\n",
    "A radiobutton lets you choose between one of a number of mutually exclusive choices; unlike a checkbutton, it is not limited to just two choices. Radiobuttons are always used together in a set and are a good option when the number of choices is fairly small.\n",
    "\n",
    "Syntax:- w = CheckButton(master, option=value)\n",
    "\n"
   ]
  },
  {
   "cell_type": "code",
   "execution_count": 30,
   "metadata": {},
   "outputs": [],
   "source": [
    "# import tkinter library\n",
    "\n",
    "# initialize the object\n",
    "\n",
    "# create an integer variable\n",
    "\n",
    "# define a function choice to see the result of the radio button that has been choose\n",
    "\n",
    "# create radio buttons \n",
    " \n"
   ]
  },
  {
   "attachments": {},
   "cell_type": "markdown",
   "metadata": {},
   "source": [
    "## 8. Scale:-\n",
    "\n",
    "Scale widget is used to implement the graphical slider to the python application so that the user can slide through the range of values shown on the slider and select the one among them. We can control the minimum and maximum values along with the resolution of the scale. It provides an alternative to the Entry widget when the user is forced to select only one value from the given range of values.\n",
    "\n",
    "Syntax:- w = Scale(top, options) \n"
   ]
  },
  {
   "cell_type": "code",
   "execution_count": 31,
   "metadata": {},
   "outputs": [],
   "source": [
    "# import tkinter library\n",
    "\n",
    "# import messagebox\n",
    "\n",
    "# initialize an object\n",
    "\n",
    "# define a function slide to get the output after slide\n",
    "\n",
    "# create a doublevar\n",
    "\n",
    "# create scale\n",
    "\n",
    "# create a button\n",
    "\n"
   ]
  },
  {
   "attachments": {},
   "cell_type": "markdown",
   "metadata": {},
   "source": [
    "## 9. Spinbox:-\n",
    "\n",
    "The Spinbox widget is an alternative to the Entry widget. It provides the range of values to the user, out of which, the user can select the one.\n",
    "\n",
    "Syntax:- w = Spinbox(top, options) \n"
   ]
  },
  {
   "cell_type": "code",
   "execution_count": 32,
   "metadata": {},
   "outputs": [],
   "source": [
    "# import tkinter library\n",
    "\n",
    "# import messagebox\n",
    "\n",
    "#initialize root variable\n",
    "\n",
    "# define a function slide to get the output as a message \n",
    "\n",
    "# create a spin box\n",
    "\n",
    "# create a button\n"
   ]
  },
  {
   "attachments": {},
   "cell_type": "markdown",
   "metadata": {},
   "source": [
    "## 10. Menu Button:-\n",
    "\n",
    "Menubutton widget can be defined as the drop-down menu that is shown to the user all the time. It is used to provide the user a option to select the appropriate choice exist within the application.\n",
    "\n",
    "Syntax:- w = Menubutton(Top, options) \n"
   ]
  },
  {
   "cell_type": "code",
   "execution_count": 33,
   "metadata": {},
   "outputs": [],
   "source": [
    "# import tkinter library\n",
    "\n",
    "# import messagebox\n",
    "\n",
    "# initialize an object\n",
    "\n",
    "# define a function new\n",
    "\n",
    "# define a function disp\n",
    "\n",
    "# create menu buttons with commands new and disp\n"
   ]
  }
 ],
 "metadata": {
  "kernelspec": {
   "display_name": "Python 3",
   "language": "python",
   "name": "python3"
  },
  "language_info": {
   "codemirror_mode": {
    "name": "ipython",
    "version": 3
   },
   "file_extension": ".py",
   "mimetype": "text/x-python",
   "name": "python",
   "nbconvert_exporter": "python",
   "pygments_lexer": "ipython3",
   "version": "3.7.4"
  }
 },
 "nbformat": 4,
 "nbformat_minor": 2
}
