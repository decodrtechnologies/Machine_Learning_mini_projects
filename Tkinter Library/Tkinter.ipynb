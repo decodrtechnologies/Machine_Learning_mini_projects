{
 "cells": [
  {
   "attachments": {},
   "cell_type": "markdown",
   "metadata": {},
   "source": [
    "# Event Driven programming using tkinter:\n",
    "\n",
    "### What is Event Driven Programming?\n",
    "\n",
    "Event-driven programming is a programming paradigm in which the flow of program execution is determined by events - for example a user action such as a mouse click, key press, or a message from the operating system or another program. \n",
    "\n",
    "- An event-driven application is designed to detect events as they occur, and then deal with them using an appropriate event-handling procedure. \n",
    "- In a typical modern event-driven program, there is no discernible flow of control. The main routine is an event-loop that waits for an event to occur, and then invokes the appropriate event-handling routine.\n",
    "- Event callback is a function that is invoked when something significant happens like when click event is performed by user or the result of database query is available.\n",
    "\n",
    "### Introduction to GUI:\n",
    "- A graphical user interface allows the user to interact with the operating system and other programs using graphical elements such as icons, buttons, and dialog boxes.\n",
    "- GUIs popularized the use of the mouse.\n",
    "- GUIs allow the user to point at graphical elements and click the mouse button to activate them.\n",
    "- GUI Programs Are Event-Driven\n",
    "- User determines the order in which things happen\n",
    "- GUI programs respond to the actions of the user, thus they are event driven.\n",
    "- The tkinter module is a wrapper around tk, which is a wrapper around tcl, which is what is used to create windows and graphical user interfaces.\n",
    "\n"
   ]
  },
  {
   "attachments": {},
   "cell_type": "markdown",
   "metadata": {},
   "source": [
    "## Tkinter Widgets:\n",
    "\n",
    "- Tkinter is the standard GUI library for Python.\n",
    "- Tkinter provides various controls, such as buttons, labels and text boxes used in a GUI application. These controls are commonly called widgets.\n",
    "\n",
    "The following widgets will be dicussed below one by one:-\n",
    "1. Label Widget\n",
    "2. Button Widget\n",
    "3. Entry Widget\n",
    "4. Canvas\n",
    "5. Check Button\n",
    "6. Radio Button\n",
    "7. Scale\n",
    "8. Spinbox\n",
    "9. Menu Button\n"
   ]
  },
  {
   "attachments": {},
   "cell_type": "markdown",
   "metadata": {},
   "source": [
    "## 1. Label Widget:-\n",
    "\n",
    "A label is a widget that displays text or images, typically that the user will just view but not otherwise interact with. Labels are used for such things as identifying controls or other parts of the user interface, providing textual feedback or results, etc.\n",
    "\n",
    "Syntax:- tk.Label(parent,text=“message”)"
   ]
  },
  {
   "cell_type": "code",
   "execution_count": 4,
   "metadata": {},
   "outputs": [],
   "source": [
    "# import the tkinter library\n",
    "import tkinter as tk\n",
    "\n",
    "# initialise an object\n",
    "root = tk.Tk()\n",
    "\n",
    "# create a label\n",
    "label = tk.Label(root, text='Hello World!')\n",
    "label.grid()\n",
    "root.mainloop()\n"
   ]
  },
  {
   "attachments": {},
   "cell_type": "markdown",
   "metadata": {},
   "source": [
    "## 2. Button Widget:- \n",
    "\n",
    "A button, unlike a frame or label, is very much designed for the user to interact with, and in particular, press to perform some action. Like labels, they can display text or images, but also have a whole range of new options used to control their behavior.\n",
    "\n",
    "Syntax:- button = tk.Button(parent, text=‘ClickMe', command=submitForm)"
   ]
  },
  {
   "cell_type": "code",
   "execution_count": 3,
   "metadata": {},
   "outputs": [],
   "source": [
    "# import tkinter library\n",
    "import tkinter as tk\n",
    "\n",
    "# import the message box\n",
    "from tkinter import messagebox\n",
    "\n",
    "# define a function which will be executed on a click\n",
    "def hello():\n",
    "   msg = messagebox.showinfo( \"GUI Event Demo\",\"Button Demo\")\n",
    "\n",
    "# initialise an object \n",
    "root = tk.Tk()\n",
    "root.geometry(\"200x200\")\n",
    "\n",
    "# create a button\n",
    "b = tk.Button(root, text='Fire Me',command=hello)\n",
    "b.place(x=50,y=50)\n",
    "root.mainloop()"
   ]
  },
  {
   "attachments": {},
   "cell_type": "markdown",
   "metadata": {},
   "source": [
    "## 3. Entry Widgets:-\n",
    "\n",
    "An entry presents the user with a single line text field that they can use to type in a string value. These can be just about anything: their name, a city, a password, social security number, and so on.\n",
    "\n",
    "Syntax:- name = tk.Entry(parent, textvariable=username)\n"
   ]
  },
  {
   "cell_type": "code",
   "execution_count": 7,
   "metadata": {},
   "outputs": [],
   "source": [
    "# define a function that will be executed on clicking the button\n",
    "def hello():\n",
    "   msg = messagebox.showinfo( \"GUI Event Demo\",t.get())\n",
    "\n",
    "# initialize the object\n",
    "root = tk.Tk()\n",
    "root.geometry(\"200x200\")\n",
    "\n",
    "# create a label\n",
    "l1=tk.Label(root,text=\"Name:\")\n",
    "l1.grid(row=0)\n",
    "\n",
    "# create an entry widget\n",
    "t=tk.Entry(root)\n",
    "t.grid(row=0,column=1)\n",
    "\n",
    "# create a button\n",
    "b = tk.Button(root, text='Fire Me',command=hello)\n",
    "b.grid(row=1,columnspan=2);\n",
    "root.mainloop()\n"
   ]
  },
  {
   "cell_type": "markdown",
   "metadata": {},
   "source": [
    "## 4. Canvas:-\n",
    "\n",
    "The Canvas is a rectangular area intended for drawing pictures or other complex layouts. You can place graphics, text, widgets or frames on a Canvas.\n",
    "\n",
    "It is used to draw pictures and other complex layout like graphics, text and widgets.\n",
    "\n",
    "Syntax:- w = Canvas(master, option=value) \n"
   ]
  },
  {
   "cell_type": "code",
   "execution_count": 9,
   "metadata": {},
   "outputs": [],
   "source": [
    "# import tkinter library\n",
    "from tkinter import *\n",
    "\n",
    "# import a message box\n",
    "from tkinter import messagebox\n",
    "\n",
    "# initialize an object\n",
    "top = Tk()\n",
    "\n",
    "# create a canvas \n",
    "C = Canvas(top, bg = \"blue\", height = 250, width = 300)\n",
    "coord = 10, 50, 240, 210\n",
    "arc = C.create_arc(coord, start = 0, extent = 150, fill = \"red\")\n",
    "line = C.create_line(10,10,200,200,fill = 'white')\n",
    "C.pack()\n",
    "top.mainloop()"
   ]
  },
  {
   "attachments": {},
   "cell_type": "markdown",
   "metadata": {},
   "source": [
    "## 5. Checkbutton:-\n",
    "\n",
    "A checkbutton is like a regular button, except that not only can the user press it, which will invoke a command callback, but it also holds a binary value of some kind (i.e. a toggle). Checkbuttons are used all the time when a user is asked to choose between, e.g. two different values for an option.\n",
    "\n",
    "Syntax:- w = CheckButton(master, option=value)\n"
   ]
  },
  {
   "cell_type": "code",
   "execution_count": 11,
   "metadata": {},
   "outputs": [],
   "source": [
    "# import the tkinter library\n",
    "from tkinter import * \n",
    "\n",
    "# initialize the object \n",
    "root= Tk()\n",
    "root.title('Checkbutton Demo')\n",
    "\n",
    "# initialize two integer variables\n",
    "v1=IntVar()\n",
    "v2=IntVar()\n",
    "\n",
    "# define a test function\n",
    "def test():\n",
    "    if(v1.get()==1 ):\n",
    "        v2.set(0)\n",
    "        print(\"Male\")\n",
    "    if(v2.get()==1):\n",
    "        v1.set(0)\n",
    "        print(\"Female\")    \n",
    "\n",
    "# create checkbuttons\n",
    "cb1=Checkbutton(root,text='Male', variable=v1,onvalue=1, offvalue=0, command=test)\n",
    "cb1.grid(row=0)\n",
    "cb2=Checkbutton(root,text='Female', variable=v2,onvalue=1, offvalue=0, command=test)\n",
    "cb2.grid(row=1)\n",
    "root.mainloop() \n"
   ]
  },
  {
   "attachments": {},
   "cell_type": "markdown",
   "metadata": {},
   "source": [
    "## 6. Radio Button:-\n",
    "\n",
    "A radiobutton lets you choose between one of a number of mutually exclusive choices; unlike a checkbutton, it is not limited to just two choices. Radiobuttons are always used together in a set and are a good option when the number of choices is fairly small.\n",
    "\n",
    "Syntax:- w = CheckButton(master, option=value)\n",
    "\n"
   ]
  },
  {
   "cell_type": "code",
   "execution_count": 14,
   "metadata": {},
   "outputs": [],
   "source": [
    "# import tkinter library\n",
    "from tkinter import *\n",
    "\n",
    "# initialize the object\n",
    "root= Tk()\n",
    "root.geometry(\"200x200\")\n",
    "\n",
    "# create an integer variable\n",
    "radio=IntVar()\n",
    "\n",
    "# define a function choice\n",
    "def choice():\n",
    "    if(radio.get()==1):\n",
    "        root.configure(background='red')\n",
    "    elif(radio.get()==2):\n",
    "        root.configure(background='blue')\n",
    "    elif(radio.get()==3):\n",
    "\t    root.configure(background='green')\n",
    "\n",
    "# create radio buttons \n",
    "rb1=Radiobutton(root,text='Red', variable=radio,width=25,value=1, command=choice)\n",
    "rb1.grid(row=0)\n",
    "rb2=Radiobutton(root,text='Blue', variable=radio,width=25,value=2, command=choice)\n",
    "rb2.grid(row=1)\n",
    "rb3=Radiobutton(root,text='Green', variable=radio,width=25,value=3, command=choice)\n",
    "rb3.grid(row=3)\n",
    "root.mainloop() \n"
   ]
  },
  {
   "attachments": {},
   "cell_type": "markdown",
   "metadata": {},
   "source": [
    "## 8. Scale:-\n",
    "\n",
    "Scale widget is used to implement the graphical slider to the python application so that the user can slide through the range of values shown on the slider and select the one among them. We can control the minimum and maximum values along with the resolution of the scale. It provides an alternative to the Entry widget when the user is forced to select only one value from the given range of values.\n",
    "\n",
    "Syntax:- w = Scale(top, options) \n"
   ]
  },
  {
   "cell_type": "code",
   "execution_count": 17,
   "metadata": {},
   "outputs": [],
   "source": [
    "# import tkinter library\n",
    "from tkinter import *\n",
    "\n",
    "# import messagebox\n",
    "from tkinter import messagebox\n",
    "\n",
    "# initialize an object\n",
    "root= Tk()\n",
    "root.title('Scale Demo')\n",
    "root.geometry(\"200x200\")\n",
    "\n",
    "# define a function slide to get the output after slide\n",
    "def slide():\n",
    "    msg = messagebox.showinfo( \"GUI Event Demo\",v.get())\n",
    "\n",
    "# create a doublevar\n",
    "v = DoubleVar()  \n",
    "\n",
    "# create scale\n",
    "scale = Scale( root, variable = v, from_ = 1, to = 50, orient = HORIZONTAL)  \n",
    "scale.pack(anchor=CENTER)\n",
    "\n",
    "# create a button\n",
    "btn = Button(root, text=\"Value\", command=slide)  \n",
    "btn.pack(anchor=CENTER)  \n",
    "root.mainloop() \n"
   ]
  },
  {
   "attachments": {},
   "cell_type": "markdown",
   "metadata": {},
   "source": [
    "## 9. Spinbox:-\n",
    "\n",
    "The Spinbox widget is an alternative to the Entry widget. It provides the range of values to the user, out of which, the user can select the one.\n",
    "\n",
    "Syntax:- w = Spinbox(top, options) \n"
   ]
  },
  {
   "cell_type": "code",
   "execution_count": 18,
   "metadata": {},
   "outputs": [],
   "source": [
    "# import tkinter library\n",
    "from tkinter import *\n",
    "\n",
    "# import messagebox\n",
    "from tkinter import messagebox\n",
    "\n",
    "#initialize root variable\n",
    "root= Tk()\n",
    "root.title('Scale Demo')\n",
    "root.geometry(\"200x200\")\n",
    "\n",
    "# define a function slide to get the output as a message \n",
    "def slide():\n",
    "    msg = messagebox.showinfo( \"SpinBox Event Demo\",spin.get())\n",
    "\n",
    "# create a spin box\n",
    "spin = Spinbox(root, from_= 0, to = 25)  \n",
    "spin.pack(anchor=CENTER)\n",
    "\n",
    "# create a button\n",
    "btn = Button(root, text=\"Value\", command=slide)  \n",
    "btn.pack(anchor=CENTER)  \n",
    "root.mainloop() \n"
   ]
  },
  {
   "attachments": {},
   "cell_type": "markdown",
   "metadata": {},
   "source": [
    "## 10. Menu Button:-\n",
    "\n",
    "Menubutton widget can be defined as the drop-down menu that is shown to the user all the time. It is used to provide the user a option to select the appropriate choice exist within the application.\n",
    "\n",
    "Syntax:- w = Menubutton(Top, options) \n"
   ]
  },
  {
   "cell_type": "code",
   "execution_count": 22,
   "metadata": {},
   "outputs": [],
   "source": [
    "# import tkinter library\n",
    "from tkinter import *\n",
    "\n",
    "# import messagebox\n",
    "from tkinter import messagebox\n",
    "\n",
    "# initialize an object\n",
    "root= Tk()\n",
    "root.title('Menu Demo')\n",
    "root.geometry(\"200x200\")\n",
    "\n",
    "# define a function new\n",
    "def new():\n",
    "    print(\"New Menu!\")\n",
    "\n",
    "# define a function disp\n",
    "def disp():\n",
    "    print(\"Open Menu!\")\n",
    "\n",
    "# create menu buttons with commands new and disp\n",
    "menubutton = Menubutton(root, text=\"File\")\n",
    "menubutton.grid()\n",
    "menubutton.menu = Menu(menubutton, tearoff = 0)\n",
    "menubutton[\"menu\"] = menubutton.menu\n",
    "menubutton.menu.add_command(label=\"Create new\",command=new)\n",
    "menubutton.menu.add_command(label=\"Open\",command=disp)\n",
    "menubutton.menu.add_separator()\n",
    "menubutton.menu.add_command(label=\"Exit\",command=root.quit)\n",
    "menubutton.pack()\n",
    "root.mainloop()"
   ]
  }
 ],
 "metadata": {
  "kernelspec": {
   "display_name": "Python 3",
   "language": "python",
   "name": "python3"
  },
  "language_info": {
   "codemirror_mode": {
    "name": "ipython",
    "version": 3
   },
   "file_extension": ".py",
   "mimetype": "text/x-python",
   "name": "python",
   "nbconvert_exporter": "python",
   "pygments_lexer": "ipython3",
   "version": "3.7.4"
  }
 },
 "nbformat": 4,
 "nbformat_minor": 2
}
